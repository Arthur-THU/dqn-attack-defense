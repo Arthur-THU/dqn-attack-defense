{
 "cells": [
  {
   "cell_type": "markdown",
   "metadata": {},
   "source": [
    "# Train with stable baselines "
   ]
  },
  {
   "cell_type": "code",
   "execution_count": 22,
   "metadata": {},
   "outputs": [],
   "source": [
    "import os\n",
    "\n",
    "import gym\n",
    "import gym_defender\n",
    "\n",
    "from stable_baselines.common.policies import FeedForwardPolicy as FFP_common\n",
    "from stable_baselines.deepq.policies import FeedForwardPolicy as FFP_DQ\n",
    "\n",
    "from stable_baselines.common.vec_env import DummyVecEnv\n",
    "from stable_baselines.bench import Monitor\n",
    "\n",
    "from stable_baselines import PPO2\n",
    "from stable_baselines import DQN\n",
    "\n",
    "from stable_baselines.results_plotter import load_results, ts2xy\n",
    "\n",
    "import numpy as np\n",
    "import matplotlib.pyplot as plt"
   ]
  },
  {
   "cell_type": "code",
   "execution_count": 2,
   "metadata": {},
   "outputs": [],
   "source": [
    "class MLP_PPO(FFP_common):\n",
    "    def __init__(self, *args, **kwargs):\n",
    "        super(MLP_PPO, self).__init__(*args, **kwargs,\n",
    "                                           net_arch=[dict(pi=[300, 300], vf=[300, 300])],\n",
    "                                           feature_extraction=\"mlp\")\n",
    "        \n",
    "class MLP_DQN(FFP_DQ):\n",
    "    def __init__(self, *args, **kwargs):\n",
    "        super(MLP_DQN, self).__init__(*args, **kwargs,\n",
    "                                           layers=[300, 300],\n",
    "                                           layer_norm=False,\n",
    "                                           feature_extraction=\"mlp\")\n"
   ]
  },
  {
   "cell_type": "code",
   "execution_count": 32,
   "metadata": {},
   "outputs": [],
   "source": [
    "class Defense:\n",
    "    def __init__(self, method, K=5, P=0.95):\n",
    "        self.method = method\n",
    "        \n",
    "        self.K = K\n",
    "        self.state_size        = 2 * (self.K + 1)\n",
    "        self.action_size       = 2\n",
    "        self.reward            = []\n",
    "        \n",
    "        env_name = 'defender-' + str(K) + '-' + str(P) + '-v1'\n",
    "        \n",
    "        self.log_dir = \"/tmp/gym/\"\n",
    "        os.makedirs(self.log_dir, exist_ok=True)\n",
    "        \n",
    "        env = gym.make(env_name)\n",
    "        env = Monitor(env, self.log_dir, allow_early_resets=True)\n",
    "        self.envs = DummyVecEnv([lambda: env])\n",
    "        \n",
    "        if method=='PPO':\n",
    "            self.model = PPO2(MLP_PPO, self.envs, verbose=0)\n",
    "        elif method=='DQN':\n",
    "            self.model = DQN(MLP_DQN, self.envs, verbose=0)\n",
    "        else:\n",
    "            raise Exception(\"Erreur ! Méthode: 'PPO' ou 'DQN'\")\n",
    "        print(\"Model Initialized !\")\n",
    "        \n",
    "        self.best_mean_reward, self.n_steps = -np.inf, 0\n",
    "        \n",
    "    \n",
    "    def callback(self, _locals, _globals):\n",
    "        \"\"\"\n",
    "        Callback called at each step (for DQN an others) or after n steps (see ACER or PPO2)\n",
    "        :param _locals: (dict)\n",
    "        :param _globals: (dict)\n",
    "        \"\"\"\n",
    "       \n",
    "        # Print stats every 1000 calls\n",
    "        if (self.n_steps + 1) % 1000 == 0:\n",
    "            # Evaluate policy performance\n",
    "            x, y = ts2xy(load_results(self.log_dir), 'timesteps')\n",
    "            if len(x) > 0:\n",
    "                mean_reward = np.mean(y[-100:])\n",
    "                print(x[-1], 'timesteps')\n",
    "                print(\"Best mean reward: {:.2f} - Last mean reward per episode: {:.2f}\".format(self.best_mean_reward, mean_reward))\n",
    "                \n",
    "                # New best model, you could save the agent here\n",
    "                if mean_reward > self.best_mean_reward:\n",
    "                    self.best_mean_reward = mean_reward\n",
    "                \n",
    "        self.n_steps += 1\n",
    "        return True\n",
    "    \n",
    "    def learn(self, timesteps=10000):\n",
    "        self.model.learn(total_timesteps = timesteps, callback = self.callback)\n",
    "        print(\"======\\nLEARNING DONE\\n======\")\n",
    "\n",
    "    def save(self, filename):\n",
    "        self.model.save(filename)\n",
    "        print(\"Model saved !\\n Filename:\", filename)\n",
    "\n",
    "    def load(self, filename):\n",
    "        if self.method=='PPO':\n",
    "            self.model = PPO2.load(filename, policy=MLP_PPO)\n",
    "        else:\n",
    "            self.model = DQN.load(filename, policy=MLP_DQN)\n",
    "        print(\"Model loaded !\")\n",
    "        \n",
    "    \n",
    "    \n",
    "    def run(self, nb_episodes = 1000):\n",
    "        self.nb_episodes = nb_episodes\n",
    "        \n",
    "        for index_episode in range(nb_episodes):\n",
    "            state = self.envs.reset()\n",
    "            state = np.reshape(np.array(state), [1, self.state_size])\n",
    "            done = False\n",
    "            steps = 0\n",
    "            while not done:\n",
    "                 action, _states = self.model.predict(state)\n",
    "                 next_state, reward, done, _ = self.envs.step(action)\n",
    "                 next_state = np.reshape(np.array(next_state), [1, self.state_size])\n",
    "                 state = next_state\n",
    "                 steps += 1\n",
    "            if index_episode %100 == 0:\n",
    "                print(\"Episode {}#; \\t Nb of steps: {}; \\t Reward: {}.\".format(index_episode, steps + 1, reward))\n",
    "            if index_episode > 0:\n",
    "                self.reward += [((self.reward[-1] * len(self.reward)) + reward) / (len(self.reward) + 1)]\n",
    "            else:\n",
    "                self.reward += [reward]"
   ]
  },
  {
   "cell_type": "code",
   "execution_count": 38,
   "metadata": {
    "scrolled": true
   },
   "outputs": [
    {
     "name": "stdout",
     "output_type": "stream",
     "text": [
      "Model Initialized !\n",
      "998 timesteps\n",
      "Best mean reward: -inf - Last mean reward per episode: -0.40\n",
      "1996 timesteps\n",
      "Best mean reward: -0.40 - Last mean reward per episode: 0.68\n",
      "2996 timesteps\n",
      "Best mean reward: 0.68 - Last mean reward per episode: 0.94\n",
      "3999 timesteps\n",
      "Best mean reward: 0.94 - Last mean reward per episode: 0.92\n",
      "4997 timesteps\n",
      "Best mean reward: 0.94 - Last mean reward per episode: 0.88\n",
      "5997 timesteps\n",
      "Best mean reward: 0.94 - Last mean reward per episode: 0.96\n",
      "6999 timesteps\n",
      "Best mean reward: 0.96 - Last mean reward per episode: 0.92\n",
      "7999 timesteps\n",
      "Best mean reward: 0.96 - Last mean reward per episode: 0.88\n",
      "8995 timesteps\n",
      "Best mean reward: 0.96 - Last mean reward per episode: 0.90\n",
      "9999 timesteps\n",
      "Best mean reward: 0.96 - Last mean reward per episode: 0.90\n",
      "======\n",
      "LEARNING DONE\n",
      "======\n"
     ]
    }
   ],
   "source": [
    "defense = Defense('DQN', K=5, P=0.99)\n",
    "defense.learn(10000)\n",
    "#defense.run(1000)\n",
    "#plt.plot(range(1, defense.nb_episodes+1), defense.reward)"
   ]
  },
  {
   "cell_type": "code",
   "execution_count": 16,
   "metadata": {},
   "outputs": [
    {
     "name": "stdout",
     "output_type": "stream",
     "text": [
      "Model saved !\n",
      " Filename: DQN_10_0.99_1k\n"
     ]
    }
   ],
   "source": [
    "defense.save('DQN_10_0.99_1k')"
   ]
  },
  {
   "cell_type": "markdown",
   "metadata": {},
   "source": [
    "### Models saved\n",
    "------\n",
    "- DQN_5_0.95_20k\n",
    "- PPO_5_0.99_10k\n",
    "- PPO_10_0.99_1k\n",
    "- DQN_10_0.99_1k\n"
   ]
  },
  {
   "cell_type": "code",
   "execution_count": 41,
   "metadata": {},
   "outputs": [],
   "source": [
    "def movingAverage(values, window):\n",
    "    \"\"\"\n",
    "    Smooth values by doing a moving average\n",
    "    :param values: (numpy array)\n",
    "    :param window: (int)\n",
    "    :return: (numpy array)\n",
    "    \"\"\"\n",
    "    weights = np.repeat(1.0, window) / window\n",
    "    return np.convolve(values, weights, 'valid')\n",
    "\n",
    "def plot_results(log_folder, title='Learning Curve'):\n",
    "    \"\"\"\n",
    "    plot the results\n",
    "\n",
    "    :param log_folder: (str) the save location of the results to plot\n",
    "    :param title: (str) the title of the task to plot\n",
    "    \"\"\"\n",
    "    x, y = ts2xy(load_results(log_folder), 'timesteps')\n",
    "    y = movingAverage(y, window=50)\n",
    "    # Truncate x\n",
    "    x = x[len(x) - len(y):]\n",
    "\n",
    "    fig = plt.figure(title)\n",
    "    plt.plot(x, y)\n",
    "    plt.xlabel('Number of Timesteps')\n",
    "    plt.ylabel('Rewards')\n",
    "    plt.title(title + \" Smoothed\")\n",
    "    plt.show()"
   ]
  },
  {
   "cell_type": "code",
   "execution_count": 42,
   "metadata": {},
   "outputs": [
    {
     "data": {
      "image/png": "[encoded data removed]",
      "text/plain": [
       "<Figure size 432x288 with 1 Axes>"
      ]
     },
     "metadata": {
      "needs_background": "light"
     },
     "output_type": "display_data"
    }
   ],
   "source": [
    "log_dir = \"/tmp/gym/\"\n",
    "plot_results(log_dir)"
   ]
  }
 ],
 "metadata": {
  "kernelspec": {
   "display_name": "env",
   "language": "python",
   "name": "env"
  },
  "language_info": {
   "codemirror_mode": {
    "name": "ipython",
    "version": 3
   },
   "file_extension": ".py",
   "mimetype": "text/x-python",
   "name": "python",
   "nbconvert_exporter": "python",
   "pygments_lexer": "ipython3",
   "version": "3.6.7"
  }
 },
 "nbformat": 4,
 "nbformat_minor": 2
}
