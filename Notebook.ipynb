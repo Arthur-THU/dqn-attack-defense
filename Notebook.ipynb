{
 "cells": [
  {
   "cell_type": "markdown",
   "metadata": {},
   "source": [
    "# Can Deep Reinforcement Learning Solve Erdos-Selfridge-Spencer Games?"
   ]
  },
  {
   "cell_type": "code",
   "execution_count": null,
   "metadata": {},
   "outputs": [],
   "source": [
    "import numpy as np\n",
    "import matplotlib.pyplot as plt\n",
    "\n",
    "from stable_baselines.results_plotter import load_results, ts2xy\n",
    "\n",
    "from defense import Defense\n",
    "from attack import Attack\n",
    "from utils import plot_results\n",
    "\n",
    "log_dir_def = \"/tmp/gym/\"\n",
    "log_dir_att = \"/tmp/gym_attack/\" "
   ]
  },
  {
   "cell_type": "markdown",
   "metadata": {},
   "source": [
    "## Defense"
   ]
  },
  {
   "cell_type": "markdown",
   "metadata": {},
   "source": [
    "### Models saved\n",
    "------\n",
    "- DQN_5_0.95_20k\n",
    "- PPO_5_0.99_10k\n",
    "- PPO_10_0.99_1k\n",
    "- DQN_10_0.99_1k\n"
   ]
  },
  {
   "cell_type": "code",
   "execution_count": null,
   "metadata": {
    "scrolled": true
   },
   "outputs": [],
   "source": [
    "nb_episode_train = 1000\n",
    "\n",
    "defense = Defense('DQN', K=10, P=0.9)\n",
    "\n",
    "defense.load('DQN_5_0.99_1k')\n",
    "#defense.learn(nb_episode_train)\n",
    "\n",
    "plot_results(log_dir_def)"
   ]
  },
  {
   "cell_type": "code",
   "execution_count": null,
   "metadata": {
    "scrolled": true
   },
   "outputs": [],
   "source": [
    "defense.run(100)\n",
    "plt.plot(range(1, defense.nb_episodes+1), defense.reward)"
   ]
  },
  {
   "cell_type": "code",
   "execution_count": null,
   "metadata": {},
   "outputs": [],
   "source": [
    "defense.save('DQN_5_0.99_1k')"
   ]
  },
  {
   "cell_type": "markdown",
   "metadata": {},
   "source": [
    "## Attack "
   ]
  },
  {
   "cell_type": "code",
   "execution_count": null,
   "metadata": {},
   "outputs": [],
   "source": [
    "nb_episode_train = 1000\n",
    "\n",
    "attack = Attack('DQN', K=10, P=1.1)\n",
    "\n",
    "#attack.load('')\n",
    "attack.learn(nb_episode_train)\n",
    "\n",
    "plot_results(log_dir_att)"
   ]
  },
  {
   "cell_type": "code",
   "execution_count": null,
   "metadata": {},
   "outputs": [],
   "source": [
    "attack.run(100)\n",
    "plt.plot(range(1, attack.nb_episodes+1), attack.reward)"
   ]
  },
  {
   "cell_type": "code",
   "execution_count": null,
   "metadata": {},
   "outputs": [],
   "source": [
    "attack.save('DQN_10_1.1_1k')"
   ]
  }
 ],
 "metadata": {
  "kernelspec": {
   "display_name": "env",
   "language": "python",
   "name": "env"
  },
  "language_info": {
   "codemirror_mode": {
    "name": "ipython",
    "version": 3
   },
   "file_extension": ".py",
   "mimetype": "text/x-python",
   "name": "python",
   "nbconvert_exporter": "python",
   "pygments_lexer": "ipython3",
   "version": "3.6.7"
  }
 },
 "nbformat": 4,
 "nbformat_minor": 2
}
