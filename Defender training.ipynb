{
 "cells": [
  {
   "cell_type": "code",
   "execution_count": 1,
   "metadata": {},
   "outputs": [
    {
     "name": "stderr",
     "output_type": "stream",
     "text": [
      "Using TensorFlow backend.\n"
     ]
    }
   ],
   "source": [
    "import gym\n",
    "import gym_defender\n",
    "import os\n",
    "import numpy as np\n",
    "from collections import deque\n",
    "from keras.models import Sequential\n",
    "from keras.layers import Dense, Activation\n",
    "from keras.optimizers import Adam\n",
    "import random\n",
    "from matplotlib.pyplot import plot"
   ]
  },
  {
   "cell_type": "code",
   "execution_count": 2,
   "metadata": {},
   "outputs": [],
   "source": [
    "#env = gym.make('defender-5-0.8-v0')"
   ]
  },
  {
   "cell_type": "code",
   "execution_count": 3,
   "metadata": {},
   "outputs": [],
   "source": [
    "class Agent():\n",
    "    def __init__(self, state_size, action_size):\n",
    "        self.weight_backup      = \"defender-5-08.h5\"\n",
    "        self.state_size         = state_size\n",
    "        self.action_size        = action_size\n",
    "        self.memory             = deque(maxlen=2000)\n",
    "        self.learning_rate      = 0.001\n",
    "        self.gamma              = 0.95\n",
    "        self.exploration_rate   = 1.0\n",
    "        self.exploration_min    = 0.01\n",
    "        self.exploration_decay  = 0.995\n",
    "        self.brain              = self._build_model()\n",
    "\n",
    "    def _build_model(self):\n",
    "            # Neural Net for Deep-Q learning Model\n",
    "            model = Sequential()\n",
    "            model.add(Dense(24, input_dim=self.state_size, activation='relu'))\n",
    "            model.add(Dense(24, activation='relu'))\n",
    "            model.add(Dense(self.action_size, activation='linear'))\n",
    "            model.compile(loss='mse', optimizer=Adam(lr=self.learning_rate))\n",
    "\n",
    "            if os.path.isfile(self.weight_backup):\n",
    "                model.load_weights(self.weight_backup)\n",
    "                self.exploration_rate = self.exploration_min\n",
    "            return model\n",
    "\n",
    "    def save_model(self):\n",
    "            self.brain.save(self.weight_backup)\n",
    "\n",
    "    def act(self, state):\n",
    "            if np.random.rand() <= self.exploration_rate:\n",
    "                return random.randrange(self.action_size)\n",
    "            act_values = self.brain.predict(state)\n",
    "            return np.argmax(act_values[0])\n",
    "\n",
    "    def remember(self, state, action, reward, next_state, done):\n",
    "            self.memory.append((state, action, reward, next_state, done))\n",
    "\n",
    "    def replay(self, sample_batch_size):\n",
    "            if len(self.memory) < sample_batch_size:\n",
    "                return\n",
    "            sample_batch = random.sample(self.memory, sample_batch_size)\n",
    "            for state, action, reward, next_state, done in sample_batch:\n",
    "                target = reward\n",
    "                if not done:\n",
    "                    target = reward + self.gamma * np.amax(self.brain.predict(next_state)[0])\n",
    "                target_f = self.brain.predict(state)\n",
    "                target_f[0][action] = target\n",
    "                self.brain.fit(state, target_f, epochs=1, verbose=0)\n",
    "            if self.exploration_rate > self.exploration_min:\n",
    "                self.exploration_rate *= self.exploration_decay"
   ]
  },
  {
   "cell_type": "code",
   "execution_count": 4,
   "metadata": {},
   "outputs": [
    {
     "name": "stderr",
     "output_type": "stream",
     "text": [
      "/home/maxence/Documents/Reinforcement/reinforcement/lib/python3.6/site-packages/gym/envs/registration.py:14: PkgResourcesDeprecationWarning: Parameters to load are deprecated.  Call .resolve and .require separately.\n",
      "  result = entry_point.load(False)\n"
     ]
    },
    {
     "data": {
      "image/png": "[encoded data removed]",
      "text/plain": [
       "<Figure size 432x288 with 1 Axes>"
      ]
     },
     "metadata": {
      "needs_background": "light"
     },
     "output_type": "display_data"
    }
   ],
   "source": [
    "class Defense:\n",
    "    def __init__(self):\n",
    "        self.sample_batch_size = 32\n",
    "        self.episodes          = 10000\n",
    "        self.env               = gym.make('defender-5-0.8-v0')\n",
    "\n",
    "        self.state_size        = self.env.K + 1\n",
    "        self.action_size       = 2\n",
    "        self.agent             = Agent(self.state_size, self.action_size)\n",
    "        self.reward            = []\n",
    "\n",
    "    def run(self):\n",
    "            try:\n",
    "                for index_episode in range(self.episodes):\n",
    "                    state = self.env.reset()\n",
    "                    state = np.reshape(np.array(state), [1, self.state_size])\n",
    "                    done = False\n",
    "                    index = 0\n",
    "                    while not done:\n",
    "    #                    self.env.render()\n",
    "                         action = self.agent.act(state)\n",
    "                         next_state, reward, done, _ = self.env.step(action)\n",
    "                         next_state = np.reshape(np.array(next_state), [1, self.state_size])\n",
    "                         self.agent.remember(state, action, reward, next_state, done)\n",
    "                         state = next_state\n",
    "                         index += 1\n",
    "    #                print(\"Episode {}# Nb of steps: {}\".format(index_episode, index + 1))\n",
    "                    if index_episode > 0:\n",
    "                        self.reward += [((self.reward[-1] * len(self.reward)) + reward) / (len(self.reward) + 1)]\n",
    "                    else:\n",
    "                        self.reward += [reward]\n",
    "                    self.agent.replay(self.sample_batch_size)\n",
    "            finally:\n",
    "                self.agent.save_model()\n",
    "\n",
    "if __name__ == \"__main__\":\n",
    "    defense = Defense()\n",
    "    defense.run()\n",
    "    plot(range(1,defense.episodes+1),defense.reward)"
   ]
  }
 ],
 "metadata": {
  "kernelspec": {
   "display_name": "reinforcement",
   "language": "python",
   "name": "reinforcement"
  },
  "language_info": {
   "codemirror_mode": {
    "name": "ipython",
    "version": 3
   },
   "file_extension": ".py",
   "mimetype": "text/x-python",
   "name": "python",
   "nbconvert_exporter": "python",
   "pygments_lexer": "ipython3",
   "version": "3.6.7"
  }
 },
 "nbformat": 4,
 "nbformat_minor": 2
}
